{
 "cells": [
  {
   "cell_type": "code",
   "execution_count": 1,
   "metadata": {},
   "outputs": [],
   "source": [
    "# Loading the required libraries\n",
    "\n",
    "import os\n",
    "import matplotlib.pyplot as plt\n",
    "from tensorflow.keras.optimizers import Adam\n",
    "from tensorflow.keras.preprocessing.image import ImageDataGenerator\n",
    "from tensorflow.keras.layers import Conv2D, MaxPooling2D, Flatten, Dense, Dropout\n",
    "from tensorflow.keras.models import Sequential\n",
    "from tensorflow.keras.callbacks import EarlyStopping, ModelCheckpoint"
   ]
  },
  {
   "cell_type": "code",
   "execution_count": 4,
   "metadata": {},
   "outputs": [
    {
     "data": {
      "text/plain": [
       "['.ipynb_checkpoints',\n",
       " 'BCS_CNN_AUG_final.ipynb',\n",
       " 'BCS_confusion_matrix_final.ipynb',\n",
       " 'BCS_Data_Augmentation_final.ipynb',\n",
       " 'BCS_training_resnet101_final.ipynb',\n",
       " 'BCS_training_vgg16_final.ipynb',\n",
       " 'Feature extraction.ipynb',\n",
       " 'k-means.ipynb',\n",
       " 'npy_test_preprocess.ipynb',\n",
       " 'Train-Validation Split_final.ipynb',\n",
       " 'vizualization_final.ipynb']"
      ]
     },
     "execution_count": 4,
     "metadata": {},
     "output_type": "execute_result"
    }
   ],
   "source": [
    "os.listdir()"
   ]
  },
  {
   "cell_type": "code",
   "execution_count": 2,
   "metadata": {},
   "outputs": [
    {
     "name": "stdout",
     "output_type": "stream",
     "text": [
      "Found 2466 images belonging to 4 classes.\n",
      "Found 719 images belonging to 4 classes.\n"
     ]
    }
   ],
   "source": [
    "# Image Augmentation  \n",
    "img_width=256; img_height=256\n",
    "batch_size=16\n",
    "\n",
    "TRAINING_DIR = '/insofe/Projects/Some_Project/Tensorflow/BCS challenge/Chandra_BCS_Challange/data/train/'\n",
    "\n",
    "train_datagen = ImageDataGenerator(rescale = 1/255.0,\n",
    "                                   rotation_range=30,\n",
    "                                   zoom_range=0.4,\n",
    "                                   horizontal_flip=True )\n",
    "\n",
    "train_generator = train_datagen.flow_from_directory(TRAINING_DIR,\n",
    "                                                    batch_size=batch_size,\n",
    "                                                    class_mode='categorical',\n",
    "                                                    target_size=(img_height, img_width))\n",
    "\n",
    "\n",
    "\n",
    "VALIDATION_DIR = '/insofe/Projects/Some_Project/Tensorflow/BCS challenge/Chandra_BCS_Challange/data/valid/'\n",
    "\n",
    "validation_datagen = ImageDataGenerator(rescale = 1/255.0)\n",
    "\n",
    "validation_generator = validation_datagen.flow_from_directory(VALIDATION_DIR,\n",
    "                                                              batch_size=batch_size,\n",
    "                                                              class_mode='categorical',\n",
    "                                                              target_size=(img_height, img_width)\n",
    "                                                             )"
   ]
  },
  {
   "cell_type": "code",
   "execution_count": 6,
   "metadata": {},
   "outputs": [],
   "source": [
    "# creating callbacks,early stopping & saving the file\n",
    "callbacks = EarlyStopping(monitor='val_loss', patience=5, verbose=1, mode='auto')\n",
    "best_model_file = '/insofe/Projects/Some_Project/Tensorflow/BCS challenge/Chandra_BCS_Challange/new_models/CNN.h5'\n",
    "best_model = ModelCheckpoint(best_model_file, monitor='val_acc', verbose = 1, save_best_only = True)"
   ]
  },
  {
   "cell_type": "code",
   "execution_count": 7,
   "metadata": {},
   "outputs": [],
   "source": [
    "# building the model architecture\n",
    "model = Sequential()\n",
    "model.add(Conv2D(filters=16, kernel_size=(5, 5), activation=\"relu\", input_shape=(img_width,img_height,3)))\n",
    "model.add(MaxPooling2D(pool_size=(2, 2)))\n",
    "model.add(Dropout(0.25))\n",
    "model.add(Conv2D(filters=32, kernel_size=(5, 5), activation='relu'))\n",
    "model.add(MaxPooling2D(pool_size=(2, 2)))\n",
    "model.add(Dropout(0.25))\n",
    "model.add(Conv2D(filters=64, kernel_size=(5, 5), activation=\"relu\"))\n",
    "model.add(MaxPooling2D(pool_size=(2, 2)))\n",
    "model.add(Dropout(0.25))\n",
    "model.add(Conv2D(filters=64, kernel_size=(5, 5), activation='relu'))\n",
    "model.add(MaxPooling2D(pool_size=(2, 2)))\n",
    "model.add(Dropout(0.25))\n",
    "model.add(Flatten())\n",
    "model.add(Dense(128, activation='swish'))\n",
    "model.add(Dropout(0.5))\n",
    "model.add(Dense(64, activation='swish'))\n",
    "model.add(Dropout(0.5))\n",
    "model.add(Dense(4, activation='softmax'))\n",
    "\n",
    "model.compile(optimizer='rmsprop', loss='categorical_crossentropy', metrics =['accuracy'])\n"
   ]
  },
  {
   "cell_type": "code",
   "execution_count": 8,
   "metadata": {
    "scrolled": false
   },
   "outputs": [
    {
     "name": "stderr",
     "output_type": "stream",
     "text": [
      "C:\\Users\\saira\\anaconda3\\lib\\site-packages\\tensorflow\\python\\keras\\engine\\training.py:1844: UserWarning: `Model.fit_generator` is deprecated and will be removed in a future version. Please use `Model.fit`, which supports generators.\n",
      "  warnings.warn('`Model.fit_generator` is deprecated and '\n"
     ]
    },
    {
     "name": "stdout",
     "output_type": "stream",
     "text": [
      "Epoch 1/30\n",
      "155/155 [==============================] - 325s 2s/step - loss: 1.2048 - accuracy: 0.6985 - val_loss: 0.9400 - val_accuracy: 0.6996\n",
      "WARNING:tensorflow:Can save best model only with val_acc available, skipping.\n",
      "Epoch 2/30\n",
      "155/155 [==============================] - 304s 2s/step - loss: 0.8135 - accuracy: 0.7272 - val_loss: 0.9189 - val_accuracy: 0.6996\n",
      "WARNING:tensorflow:Can save best model only with val_acc available, skipping.\n",
      "Epoch 3/30\n",
      "155/155 [==============================] - 302s 2s/step - loss: 0.7755 - accuracy: 0.7409 - val_loss: 0.8980 - val_accuracy: 0.6996\n",
      "WARNING:tensorflow:Can save best model only with val_acc available, skipping.\n",
      "Epoch 4/30\n",
      "155/155 [==============================] - 301s 2s/step - loss: 0.7621 - accuracy: 0.7328 - val_loss: 0.9156 - val_accuracy: 0.6996\n",
      "WARNING:tensorflow:Can save best model only with val_acc available, skipping.\n",
      "Epoch 5/30\n",
      "155/155 [==============================] - 300s 2s/step - loss: 0.7852 - accuracy: 0.7322 - val_loss: 0.8853 - val_accuracy: 0.6996\n",
      "WARNING:tensorflow:Can save best model only with val_acc available, skipping.\n",
      "Epoch 6/30\n",
      "155/155 [==============================] - 306s 2s/step - loss: 0.7880 - accuracy: 0.7305 - val_loss: 0.8960 - val_accuracy: 0.6996\n",
      "WARNING:tensorflow:Can save best model only with val_acc available, skipping.\n",
      "Epoch 7/30\n",
      "155/155 [==============================] - 301s 2s/step - loss: 0.7436 - accuracy: 0.7457 - val_loss: 0.9492 - val_accuracy: 0.6996\n",
      "WARNING:tensorflow:Can save best model only with val_acc available, skipping.\n",
      "Epoch 8/30\n",
      "155/155 [==============================] - 298s 2s/step - loss: 0.7948 - accuracy: 0.7166 - val_loss: 0.9045 - val_accuracy: 0.6996\n",
      "WARNING:tensorflow:Can save best model only with val_acc available, skipping.\n",
      "Epoch 9/30\n",
      "155/155 [==============================] - 304s 2s/step - loss: 0.7659 - accuracy: 0.7407 - val_loss: 0.8867 - val_accuracy: 0.6996\n",
      "WARNING:tensorflow:Can save best model only with val_acc available, skipping.\n",
      "Epoch 10/30\n",
      "155/155 [==============================] - 292s 2s/step - loss: 0.7616 - accuracy: 0.7363 - val_loss: 0.9014 - val_accuracy: 0.6996\n",
      "WARNING:tensorflow:Can save best model only with val_acc available, skipping.\n",
      "Epoch 11/30\n",
      "155/155 [==============================] - 281s 2s/step - loss: 0.7615 - accuracy: 0.7410 - val_loss: 0.9055 - val_accuracy: 0.6996\n",
      "WARNING:tensorflow:Can save best model only with val_acc available, skipping.\n",
      "Epoch 12/30\n",
      "155/155 [==============================] - 280s 2s/step - loss: 0.7241 - accuracy: 0.7474 - val_loss: 0.8991 - val_accuracy: 0.6996\n",
      "WARNING:tensorflow:Can save best model only with val_acc available, skipping.\n",
      "Epoch 13/30\n",
      "155/155 [==============================] - 281s 2s/step - loss: 0.7242 - accuracy: 0.7539 - val_loss: 0.8910 - val_accuracy: 0.6996\n",
      "WARNING:tensorflow:Can save best model only with val_acc available, skipping.\n",
      "Epoch 14/30\n",
      "155/155 [==============================] - 320s 2s/step - loss: 0.7587 - accuracy: 0.7388 - val_loss: 0.9017 - val_accuracy: 0.6996\n",
      "WARNING:tensorflow:Can save best model only with val_acc available, skipping.\n",
      "Epoch 15/30\n",
      "155/155 [==============================] - 407s 3s/step - loss: 0.7785 - accuracy: 0.7336 - val_loss: 0.9455 - val_accuracy: 0.6996\n",
      "WARNING:tensorflow:Can save best model only with val_acc available, skipping.\n",
      "Epoch 16/30\n",
      "155/155 [==============================] - 658s 4s/step - loss: 0.7767 - accuracy: 0.7224 - val_loss: 0.8965 - val_accuracy: 0.6996\n",
      "WARNING:tensorflow:Can save best model only with val_acc available, skipping.\n",
      "Epoch 17/30\n",
      "155/155 [==============================] - 664s 4s/step - loss: 0.7546 - accuracy: 0.7375 - val_loss: 0.9117 - val_accuracy: 0.6996\n",
      "WARNING:tensorflow:Can save best model only with val_acc available, skipping.\n",
      "Epoch 18/30\n",
      "155/155 [==============================] - 334s 2s/step - loss: 0.7650 - accuracy: 0.7378 - val_loss: 0.9732 - val_accuracy: 0.6996\n",
      "WARNING:tensorflow:Can save best model only with val_acc available, skipping.\n",
      "Epoch 19/30\n",
      "155/155 [==============================] - 299s 2s/step - loss: 0.7789 - accuracy: 0.7286 - val_loss: 0.9185 - val_accuracy: 0.6996\n",
      "WARNING:tensorflow:Can save best model only with val_acc available, skipping.\n",
      "Epoch 20/30\n",
      "155/155 [==============================] - 302s 2s/step - loss: 0.7180 - accuracy: 0.7482 - val_loss: 0.8972 - val_accuracy: 0.6996\n",
      "WARNING:tensorflow:Can save best model only with val_acc available, skipping.\n",
      "Epoch 21/30\n",
      "155/155 [==============================] - 441s 3s/step - loss: 0.7639 - accuracy: 0.7296 - val_loss: 0.9575 - val_accuracy: 0.6996\n",
      "WARNING:tensorflow:Can save best model only with val_acc available, skipping.\n",
      "Epoch 22/30\n",
      "155/155 [==============================] - 567s 4s/step - loss: 0.7405 - accuracy: 0.7374 - val_loss: 0.8926 - val_accuracy: 0.6996\n",
      "WARNING:tensorflow:Can save best model only with val_acc available, skipping.\n",
      "Epoch 23/30\n",
      "155/155 [==============================] - 669s 4s/step - loss: 0.7459 - accuracy: 0.7428 - val_loss: 0.9113 - val_accuracy: 0.6996\n",
      "WARNING:tensorflow:Can save best model only with val_acc available, skipping.\n",
      "Epoch 24/30\n",
      "155/155 [==============================] - 650s 4s/step - loss: 0.7483 - accuracy: 0.7474 - val_loss: 0.9041 - val_accuracy: 0.6996\n",
      "WARNING:tensorflow:Can save best model only with val_acc available, skipping.\n",
      "Epoch 25/30\n",
      "155/155 [==============================] - 473s 3s/step - loss: 0.7681 - accuracy: 0.7320 - val_loss: 0.9076 - val_accuracy: 0.6996\n",
      "WARNING:tensorflow:Can save best model only with val_acc available, skipping.\n",
      "Epoch 26/30\n",
      "155/155 [==============================] - 299s 2s/step - loss: 0.7773 - accuracy: 0.7321 - val_loss: 0.8984 - val_accuracy: 0.6996\n",
      "WARNING:tensorflow:Can save best model only with val_acc available, skipping.\n",
      "Epoch 27/30\n",
      "155/155 [==============================] - 306s 2s/step - loss: 0.7486 - accuracy: 0.7469 - val_loss: 0.9004 - val_accuracy: 0.6996\n",
      "WARNING:tensorflow:Can save best model only with val_acc available, skipping.\n",
      "Epoch 28/30\n",
      "155/155 [==============================] - 296s 2s/step - loss: 0.7666 - accuracy: 0.7342 - val_loss: 0.9000 - val_accuracy: 0.6996\n",
      "WARNING:tensorflow:Can save best model only with val_acc available, skipping.\n",
      "Epoch 29/30\n",
      "155/155 [==============================] - 670s 4s/step - loss: 0.7560 - accuracy: 0.7390 - val_loss: 0.9007 - val_accuracy: 0.6996\n",
      "WARNING:tensorflow:Can save best model only with val_acc available, skipping.\n",
      "Epoch 30/30\n",
      "155/155 [==============================] - 310s 2s/step - loss: 0.7486 - accuracy: 0.7301 - val_loss: 0.8974 - val_accuracy: 0.6996\n",
      "WARNING:tensorflow:Can save best model only with val_acc available, skipping.\n"
     ]
    }
   ],
   "source": [
    "# fitting the model\n",
    "history = model.fit_generator(train_generator,\n",
    "                              epochs=30,\n",
    "                              verbose=1,\n",
    "                              validation_data=validation_generator,\n",
    "                              callbacks = [best_model]\n",
    "                              )"
   ]
  },
  {
   "cell_type": "markdown",
   "metadata": {},
   "source": [
    "##### With the Base model the validation not changing....but the validation loss is fluktuating uo and down."
   ]
  },
  {
   "cell_type": "code",
   "execution_count": null,
   "metadata": {},
   "outputs": [],
   "source": []
  }
 ],
 "metadata": {
  "kernelspec": {
   "display_name": "Python 3",
   "language": "python",
   "name": "python3"
  },
  "language_info": {
   "codemirror_mode": {
    "name": "ipython",
    "version": 3
   },
   "file_extension": ".py",
   "mimetype": "text/x-python",
   "name": "python",
   "nbconvert_exporter": "python",
   "pygments_lexer": "ipython3",
   "version": "3.8.3"
  }
 },
 "nbformat": 4,
 "nbformat_minor": 4
}
