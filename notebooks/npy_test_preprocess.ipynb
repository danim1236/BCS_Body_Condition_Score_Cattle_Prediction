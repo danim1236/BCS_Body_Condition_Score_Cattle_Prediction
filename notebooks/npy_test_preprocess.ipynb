{
 "cells": [
  {
   "cell_type": "code",
   "execution_count": 2,
   "metadata": {},
   "outputs": [
    {
     "data": {
      "text/plain": [
       "['.ipynb_checkpoints',\n",
       " 'BCS_CNN_AUG_final.ipynb',\n",
       " 'BCS_confusion_matrix_final.ipynb',\n",
       " 'BCS_Data_Augmentation_final.ipynb',\n",
       " 'BCS_training_resnet101_final.ipynb',\n",
       " 'BCS_training_vgg19_final.ipynb',\n",
       " 'Cattle_77.ipynb',\n",
       " 'csv_conversion.ipynb',\n",
       " 'Data_Augmented_final_delete.ipynb',\n",
       " 'data_augmented_weights.h5',\n",
       " 'exp_data',\n",
       " 'facial_expressions',\n",
       " 'Feature extraction.ipynb',\n",
       " 'haarcascade_frontalface_default.xml',\n",
       " 'k-means.ipynb',\n",
       " 'Keras-MultiClass-Image-Classification-master',\n",
       " 'model_files',\n",
       " 'new_train',\n",
       " 'npy_test_preprocess.ipynb',\n",
       " 'output_images',\n",
       " 'preprocessed_files',\n",
       " 'test.csv',\n",
       " 'Test_Data',\n",
       " 'train',\n",
       " 'Train-Validation Split_final.ipynb',\n",
       " 'valid',\n",
       " 'valid_exp.txt',\n",
       " 'vizualization_final.ipynb']"
      ]
     },
     "execution_count": 2,
     "metadata": {},
     "output_type": "execute_result"
    }
   ],
   "source": [
    "import os\n",
    "os.listdir()"
   ]
  },
  {
   "cell_type": "markdown",
   "metadata": {},
   "source": [
    "### Required Packages\n"
   ]
  },
  {
   "cell_type": "code",
   "execution_count": 10,
   "metadata": {},
   "outputs": [],
   "source": [
    "import numpy as np\n",
    "import pandas as pd\n",
    "from keras.preprocessing.image import load_img, img_to_array\n",
    "from tensorflow.keras.applications.vgg16 import  preprocess_input"
   ]
  },
  {
   "cell_type": "markdown",
   "metadata": {},
   "source": [
    "### Preprocessing the images"
   ]
  },
  {
   "cell_type": "code",
   "execution_count": 11,
   "metadata": {},
   "outputs": [],
   "source": [
    "img_width, img_height = 256, 256\n",
    "\n",
    "def preprocess_image(path):\n",
    "    img = load_img(path, target_size = (img_height, img_width))\n",
    "    a = img_to_array(img)\n",
    "    a = np.expand_dims(a, axis = 0)\n",
    "    a = preprocess_input(a)\n",
    "    return a"
   ]
  },
  {
   "cell_type": "markdown",
   "metadata": {},
   "source": [
    "### Getting the list"
   ]
  },
  {
   "cell_type": "code",
   "execution_count": 12,
   "metadata": {},
   "outputs": [],
   "source": [
    "test_images_dir = 'Test_Data/'\n",
    "\n",
    "test_df = pd.read_csv('test.csv')\n",
    "\n",
    "test_dfToList = test_df['photo_id'].tolist()\n",
    "test_ids = [str(item) for item in test_dfToList]"
   ]
  },
  {
   "cell_type": "markdown",
   "metadata": {},
   "source": [
    "### Saving the numpy array"
   ]
  },
  {
   "cell_type": "code",
   "execution_count": 13,
   "metadata": {},
   "outputs": [],
   "source": [
    "test_images = [test_images_dir+item for item in test_ids]\n",
    "test_preprocessed_images = np.vstack([preprocess_image(fn) for fn in test_images])\n",
    "\n",
    "np.save('preprocessed_files/test_preproc.npy', test_preprocessed_images)"
   ]
  },
  {
   "cell_type": "code",
   "execution_count": null,
   "metadata": {},
   "outputs": [],
   "source": []
  }
 ],
 "metadata": {
  "kernelspec": {
   "display_name": "Python 3",
   "language": "python",
   "name": "python3"
  },
  "language_info": {
   "codemirror_mode": {
    "name": "ipython",
    "version": 3
   },
   "file_extension": ".py",
   "mimetype": "text/x-python",
   "name": "python",
   "nbconvert_exporter": "python",
   "pygments_lexer": "ipython3",
   "version": "3.8.3"
  }
 },
 "nbformat": 4,
 "nbformat_minor": 4
}
